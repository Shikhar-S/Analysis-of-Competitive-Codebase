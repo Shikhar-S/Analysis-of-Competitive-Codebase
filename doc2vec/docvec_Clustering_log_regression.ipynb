{
 "cells": [
  {
   "cell_type": "code",
   "execution_count": 98,
   "metadata": {},
   "outputs": [],
   "source": [
    "#python example to infer document vectors from trained doc2vec model\n",
    "import gensim.models as g\n",
    "import codecs\n",
    "from scipy import spatial\n",
    "import os\n",
    "import pandas as pd\n",
    "import numpy as np\n",
    "from sklearn.cluster import KMeans\n",
    "from collections import OrderedDict\n",
    "from sklearn.linear_model import LogisticRegression\n",
    "from sklearn.utils.class_weight import compute_class_weight\n",
    "from sklearn.metrics import accuracy_score"
   ]
  },
  {
   "cell_type": "code",
   "execution_count": 2,
   "metadata": {},
   "outputs": [],
   "source": [
    "\n",
    "    "
   ]
  },
  {
   "cell_type": "code",
   "execution_count": 3,
   "metadata": {},
   "outputs": [],
   "source": [
    "def create_dataframe(contest,dvec_model,g_truth):\n",
    "\n",
    "    df = OrderedDict()\n",
    "    file_class =[]\n",
    "    csv = pd.read_csv('../Data/'+str(contest)+'/standings_statistics.csv',sep='\\t',skiprows=1,header=None,names=['ParticipantID','Rank','Country','ProblemA_id','ProblemA_memory','ProblemA_time','ProblemA_language','ProblemB_id','ProblemB_memory','ProblemB_time','ProblemB_language','ProblemC_id','ProblemC_memory','ProblemC_time','ProblemC_language','ProblemD_id','ProblemD_memory','ProblemD_time','ProblemD_language','ProblemE_id','ProblemE_memory','ProblemE_time','ProblemE_language','ProblemF_id','ProblemF_memory','ProblemF_time','ProblemF_language','ProblemG_id','ProblemG_memory','ProblemG_time','ProblemG_language'])\n",
    "    for i in os.listdir('../Data/'+str(contest)+'/all_xml_simplified/'):\n",
    "        f_xml_string = open('../Data/'+str(contest)+'/all_xml_simplified/'+str(i),'r').read()\n",
    "        f_xml_list = f_xml_string.strip().split()\n",
    "        df[i] = dvec_model.infer_vector(f_xml_list)\n",
    "        \n",
    "        file_id = str(i).strip('.xml').split(\"_\")[1]\n",
    "        file_id = str(file_id)\n",
    "        \n",
    "        if g_truth=='problem':\n",
    "            if file_id in csv['ProblemA_id'].to_list():\n",
    "                file_class.append(0)\n",
    "            elif file_id in csv['ProblemB_id'].to_list():\n",
    "                file_class.append(1)\n",
    "            elif file_id in csv['ProblemC_id'].to_list():\n",
    "                file_class.append(2)\n",
    "            elif file_id in csv['ProblemD_id'].to_list():\n",
    "                file_class.append(3)\n",
    "            elif file_id in csv['ProblemE_id'].to_list():\n",
    "                file_class.append(4)\n",
    "            elif file_id in csv['ProblemF_id'].to_list():\n",
    "                file_class.append(5)\n",
    "            elif file_id in csv['ProblemG_id'].to_list():\n",
    "                file_class.append(6)\n",
    "    return pd.DataFrame(df),file_class\n",
    "\n",
    "def cluster_vecs(n_clusters,data):\n",
    "    kmeans_model = KMeans(init='k-means++', n_clusters=n_clusters, n_init=n_clusters,n_jobs=-1)\n",
    "    mdl = kmeans_model.fit(data)\n",
    "    return mdl\n",
    "\n",
    "def intersection(a,b):\n",
    "    return len(list(set(a) & set(b)))"
   ]
  },
  {
   "cell_type": "code",
   "execution_count": 4,
   "metadata": {},
   "outputs": [],
   "source": [
    "#parameters\n",
    "model=\"model.bin\"\n",
    "#inference hyper-parameters\n",
    "start_alpha=0.01\n",
    "infer_epoch=1000\n",
    "#load model\n",
    "m = g.Doc2Vec.load(model)\n"
   ]
  },
  {
   "cell_type": "markdown",
   "metadata": {},
   "source": [
    "### Making vector representation of codes "
   ]
  },
  {
   "cell_type": "code",
   "execution_count": 114,
   "metadata": {},
   "outputs": [],
   "source": [
    "#ground truth - problem\n",
    "x,labels = create_dataframe(\"Contest1244\",m,'problem')"
   ]
  },
  {
   "cell_type": "code",
   "execution_count": 120,
   "metadata": {},
   "outputs": [],
   "source": [
    "data = np.array(x)\n",
    "data = data.T\n"
   ]
  },
  {
   "cell_type": "code",
   "execution_count": 129,
   "metadata": {},
   "outputs": [
    {
     "data": {
      "text/plain": [
       "array([[ 3.79978120e-02, -1.20230302e-01,  4.37393151e-02, ...,\n",
       "        -1.64432257e-01, -9.93256345e-02,  3.01404208e-01],\n",
       "       [-1.35547653e-01,  1.09405540e-01,  2.04108998e-01, ...,\n",
       "         7.38251209e-02,  1.10557117e-01,  7.35832155e-02],\n",
       "       [-2.76787311e-01, -1.67579651e-01,  2.26770625e-01, ...,\n",
       "        -2.80112654e-01,  1.96913943e-01,  2.49382183e-01],\n",
       "       ...,\n",
       "       [-3.05308029e-02,  2.77704035e-04,  8.06697384e-02, ...,\n",
       "        -2.13191628e-01, -1.02161624e-01,  2.32980177e-01],\n",
       "       [-9.69470814e-02,  1.51156187e-01,  9.65372548e-02, ...,\n",
       "        -3.26345023e-03, -8.60722587e-02, -6.02240041e-02],\n",
       "       [-5.79341352e-02, -2.53210217e-01,  1.90019980e-01, ...,\n",
       "        -2.16098294e-01, -1.19963355e-01,  1.24417087e-02]], dtype=float32)"
      ]
     },
     "execution_count": 129,
     "metadata": {},
     "output_type": "execute_result"
    }
   ],
   "source": [
    "data"
   ]
  },
  {
   "cell_type": "markdown",
   "metadata": {},
   "source": [
    "## K-means on Doc2Vecs of codes"
   ]
  },
  {
   "cell_type": "code",
   "execution_count": 122,
   "metadata": {},
   "outputs": [],
   "source": [
    "km_model = cluster_vecs(7,data)\n",
    "pred_labels = km_model.labels_"
   ]
  },
  {
   "cell_type": "code",
   "execution_count": 123,
   "metadata": {},
   "outputs": [],
   "source": [
    "pred_A = [i for i, x in enumerate(pred_labels) if x == 0]\n",
    "pred_B = [i for i, x in enumerate(pred_labels) if x == 1]\n",
    "pred_C = [i for i, x in enumerate(pred_labels) if x == 2]\n",
    "pred_D = [i for i, x in enumerate(pred_labels) if x == 3]\n",
    "pred_E = [i for i, x in enumerate(pred_labels) if x == 4]\n",
    "pred_F = [i for i, x in enumerate(pred_labels) if x == 5]\n",
    "pred_G = [i for i, x in enumerate(pred_labels) if x == 6]\n",
    "\n",
    "true_A = [i for i, x in enumerate(labels) if x == 0]\n",
    "true_B = [i for i, x in enumerate(labels) if x == 1]\n",
    "true_C = [i for i, x in enumerate(labels) if x == 2]\n",
    "true_D = [i for i, x in enumerate(labels) if x == 3]\n",
    "true_E = [i for i, x in enumerate(labels) if x == 4]\n",
    "true_F = [i for i, x in enumerate(labels) if x == 5]\n",
    "true_G = [i for i, x in enumerate(labels) if x == 6]\n",
    "\n",
    "\n",
    "\n"
   ]
  },
  {
   "cell_type": "code",
   "execution_count": 124,
   "metadata": {},
   "outputs": [],
   "source": [
    "conf={}\n",
    "for i in range(len(pred_labels)):\n",
    "    if pred_labels[i] not in conf.keys():\n",
    "        conf[pred_labels[i]]=[0,0,0,0,0,0,0]\n",
    "        \n",
    "    else:\n",
    "        conf[pred_labels[i]][labels[i]]+=1"
   ]
  },
  {
   "cell_type": "code",
   "execution_count": 125,
   "metadata": {},
   "outputs": [],
   "source": [
    "for key,value in conf.items():\n",
    "    conf[key][0] = conf[key][0]/len(true_A)\n",
    "    conf[key][1] = conf[key][1]/len(true_B)\n",
    "    conf[key][2] = conf[key][2]/len(true_C)\n",
    "    conf[key][3] = conf[key][3]/len(true_D)\n",
    "    conf[key][4] = conf[key][4]/len(true_E)\n",
    "    conf[key][5] = conf[key][5]/len(true_F)\n",
    "    conf[key][6] = conf[key][6]/len(true_G)\n",
    "    \n",
    "    "
   ]
  },
  {
   "cell_type": "code",
   "execution_count": 126,
   "metadata": {},
   "outputs": [],
   "source": [
    "df_confusion = pd.DataFrame(conf)"
   ]
  },
  {
   "cell_type": "code",
   "execution_count": 127,
   "metadata": {},
   "outputs": [],
   "source": [
    "df_confusion = df_confusion.reindex(sorted(df_confusion.columns), axis=1)"
   ]
  },
  {
   "cell_type": "code",
   "execution_count": 128,
   "metadata": {
    "scrolled": true
   },
   "outputs": [
    {
     "data": {
      "text/html": [
       "<div>\n",
       "<style scoped>\n",
       "    .dataframe tbody tr th:only-of-type {\n",
       "        vertical-align: middle;\n",
       "    }\n",
       "\n",
       "    .dataframe tbody tr th {\n",
       "        vertical-align: top;\n",
       "    }\n",
       "\n",
       "    .dataframe thead th {\n",
       "        text-align: right;\n",
       "    }\n",
       "</style>\n",
       "<table border=\"1\" class=\"dataframe\">\n",
       "  <thead>\n",
       "    <tr style=\"text-align: right;\">\n",
       "      <th></th>\n",
       "      <th>0</th>\n",
       "      <th>1</th>\n",
       "      <th>2</th>\n",
       "      <th>3</th>\n",
       "      <th>4</th>\n",
       "      <th>5</th>\n",
       "      <th>6</th>\n",
       "    </tr>\n",
       "  </thead>\n",
       "  <tbody>\n",
       "    <tr>\n",
       "      <th>0</th>\n",
       "      <td>0.001049</td>\n",
       "      <td>0.088143</td>\n",
       "      <td>0.116474</td>\n",
       "      <td>0.020986</td>\n",
       "      <td>0.002099</td>\n",
       "      <td>0.469045</td>\n",
       "      <td>0.301154</td>\n",
       "    </tr>\n",
       "    <tr>\n",
       "      <th>1</th>\n",
       "      <td>0.003148</td>\n",
       "      <td>0.121721</td>\n",
       "      <td>0.137461</td>\n",
       "      <td>0.338930</td>\n",
       "      <td>0.025184</td>\n",
       "      <td>0.117524</td>\n",
       "      <td>0.254984</td>\n",
       "    </tr>\n",
       "    <tr>\n",
       "      <th>2</th>\n",
       "      <td>0.006006</td>\n",
       "      <td>0.093093</td>\n",
       "      <td>0.072072</td>\n",
       "      <td>0.201201</td>\n",
       "      <td>0.009009</td>\n",
       "      <td>0.330330</td>\n",
       "      <td>0.282282</td>\n",
       "    </tr>\n",
       "    <tr>\n",
       "      <th>3</th>\n",
       "      <td>0.690844</td>\n",
       "      <td>0.057075</td>\n",
       "      <td>0.023781</td>\n",
       "      <td>0.011891</td>\n",
       "      <td>0.210464</td>\n",
       "      <td>0.000000</td>\n",
       "      <td>0.004756</td>\n",
       "    </tr>\n",
       "    <tr>\n",
       "      <th>4</th>\n",
       "      <td>0.059642</td>\n",
       "      <td>0.083499</td>\n",
       "      <td>0.085487</td>\n",
       "      <td>0.504970</td>\n",
       "      <td>0.121272</td>\n",
       "      <td>0.033797</td>\n",
       "      <td>0.107356</td>\n",
       "    </tr>\n",
       "    <tr>\n",
       "      <th>5</th>\n",
       "      <td>0.189873</td>\n",
       "      <td>0.101266</td>\n",
       "      <td>0.063291</td>\n",
       "      <td>0.468354</td>\n",
       "      <td>0.151899</td>\n",
       "      <td>0.000000</td>\n",
       "      <td>0.025316</td>\n",
       "    </tr>\n",
       "    <tr>\n",
       "      <th>6</th>\n",
       "      <td>0.145455</td>\n",
       "      <td>0.127273</td>\n",
       "      <td>0.054545</td>\n",
       "      <td>0.418182</td>\n",
       "      <td>0.127273</td>\n",
       "      <td>0.018182</td>\n",
       "      <td>0.109091</td>\n",
       "    </tr>\n",
       "  </tbody>\n",
       "</table>\n",
       "</div>"
      ],
      "text/plain": [
       "          0         1         2         3         4         5         6\n",
       "0  0.001049  0.088143  0.116474  0.020986  0.002099  0.469045  0.301154\n",
       "1  0.003148  0.121721  0.137461  0.338930  0.025184  0.117524  0.254984\n",
       "2  0.006006  0.093093  0.072072  0.201201  0.009009  0.330330  0.282282\n",
       "3  0.690844  0.057075  0.023781  0.011891  0.210464  0.000000  0.004756\n",
       "4  0.059642  0.083499  0.085487  0.504970  0.121272  0.033797  0.107356\n",
       "5  0.189873  0.101266  0.063291  0.468354  0.151899  0.000000  0.025316\n",
       "6  0.145455  0.127273  0.054545  0.418182  0.127273  0.018182  0.109091"
      ]
     },
     "execution_count": 128,
     "metadata": {},
     "output_type": "execute_result"
    }
   ],
   "source": [
    "df_confusion"
   ]
  },
  {
   "cell_type": "markdown",
   "metadata": {},
   "source": [
    "## Logistic Regression approach (Multi-class classification)"
   ]
  },
  {
   "cell_type": "code",
   "execution_count": 132,
   "metadata": {},
   "outputs": [
    {
     "data": {
      "text/plain": [
       "(3717,)"
      ]
     },
     "execution_count": 132,
     "metadata": {},
     "output_type": "execute_result"
    }
   ],
   "source": [
    "labels = np.array(labels)\n",
    "labels.shape"
   ]
  },
  {
   "cell_type": "code",
   "execution_count": 189,
   "metadata": {},
   "outputs": [],
   "source": [
    "data_train = data[:round(0.6*(data.shape[0]))]\n",
    "labels_train = labels[:round(0.6*(labels.shape[0]))]"
   ]
  },
  {
   "cell_type": "code",
   "execution_count": 190,
   "metadata": {},
   "outputs": [],
   "source": [
    "data_test = data[round(0.6*(data.shape[0])):]\n",
    "labels_test = labels[round(0.6*(labels.shape[0])):]"
   ]
  },
  {
   "cell_type": "code",
   "execution_count": 191,
   "metadata": {},
   "outputs": [
    {
     "name": "stdout",
     "output_type": "stream",
     "text": [
      "(2230, 100) (2230,) + (1487, 100) (1487,)\n"
     ]
    }
   ],
   "source": [
    "print(data_train.shape,(labels_train.shape),\"+\",data_test.shape,labels_test.shape)"
   ]
  },
  {
   "cell_type": "code",
   "execution_count": 192,
   "metadata": {},
   "outputs": [],
   "source": [
    "class_weight=compute_class_weight('balanced', np.arange(0,7), labels)"
   ]
  },
  {
   "cell_type": "code",
   "execution_count": 193,
   "metadata": {},
   "outputs": [],
   "source": [
    "cw_dict = {}\n",
    "for i in range(len(class_weight)):\n",
    "    cw_dict[i] = class_weight[i]"
   ]
  },
  {
   "cell_type": "code",
   "execution_count": 194,
   "metadata": {},
   "outputs": [
    {
     "data": {
      "text/plain": [
       "{0: 0.5571878279118573,\n",
       " 1: 0.5571878279118573,\n",
       " 2: 1.5945945945945945,\n",
       " 3: 0.6313912009512486,\n",
       " 4: 1.0556660039761432,\n",
       " 5: 6.7215189873417724,\n",
       " 6: 9.654545454545454}"
      ]
     },
     "execution_count": 194,
     "metadata": {},
     "output_type": "execute_result"
    }
   ],
   "source": [
    "cw_dict"
   ]
  },
  {
   "cell_type": "code",
   "execution_count": 195,
   "metadata": {},
   "outputs": [],
   "source": [
    "log_reg = LogisticRegression(multi_class='multinomial',solver='lbfgs',n_jobs=-1,class_weight=cw_dict)"
   ]
  },
  {
   "cell_type": "code",
   "execution_count": 196,
   "metadata": {
    "scrolled": true
   },
   "outputs": [
    {
     "data": {
      "text/plain": [
       "LogisticRegression(C=1.0,\n",
       "                   class_weight={0: 0.5571878279118573, 1: 0.5571878279118573,\n",
       "                                 2: 1.5945945945945945, 3: 0.6313912009512486,\n",
       "                                 4: 1.0556660039761432, 5: 6.7215189873417724,\n",
       "                                 6: 9.654545454545454},\n",
       "                   dual=False, fit_intercept=True, intercept_scaling=1,\n",
       "                   l1_ratio=None, max_iter=100, multi_class='multinomial',\n",
       "                   n_jobs=-1, penalty='l2', random_state=None, solver='lbfgs',\n",
       "                   tol=0.0001, verbose=0, warm_start=False)"
      ]
     },
     "execution_count": 196,
     "metadata": {},
     "output_type": "execute_result"
    }
   ],
   "source": [
    "log_reg.fit(data_train,labels_train)"
   ]
  },
  {
   "cell_type": "code",
   "execution_count": 198,
   "metadata": {},
   "outputs": [
    {
     "data": {
      "text/plain": [
       "0.8137188971082717"
      ]
     },
     "execution_count": 198,
     "metadata": {},
     "output_type": "execute_result"
    }
   ],
   "source": [
    "accuracy_score(labels_test,log_reg.predict(data_test))"
   ]
  }
 ],
 "metadata": {
  "kernelspec": {
   "display_name": "Python 3",
   "language": "python",
   "name": "python3"
  },
  "language_info": {
   "codemirror_mode": {
    "name": "ipython",
    "version": 3
   },
   "file_extension": ".py",
   "mimetype": "text/x-python",
   "name": "python",
   "nbconvert_exporter": "python",
   "pygments_lexer": "ipython3",
   "version": "3.7.3"
  }
 },
 "nbformat": 4,
 "nbformat_minor": 2
}
