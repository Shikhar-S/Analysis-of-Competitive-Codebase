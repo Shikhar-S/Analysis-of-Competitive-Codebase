{
 "cells": [
  {
   "cell_type": "code",
   "execution_count": 1,
   "metadata": {},
   "outputs": [],
   "source": [
    "#!/usr/bin/env python\n",
    "# coding: utf-8\n",
    "\n",
    "import pandas as pd\n",
    "import numpy as np\n",
    "import zss    #pip install zss\n",
    "import xml.etree.ElementTree as ET\n"
   ]
  },
  {
   "cell_type": "code",
   "execution_count": 3,
   "metadata": {},
   "outputs": [],
   "source": [
    "def get_children(node):\n",
    "    my_children = [child for child in node]\n",
    "    return my_children\n",
    "\n",
    "    \n",
    "def get_label(node):\n",
    "    my_label = [child.tag for child in node]\n",
    "    return my_label\n",
    "\n",
    "def xmltree_dist(xml_1,xml_2):\n",
    "    if xml_1==xml_2:\n",
    "        return 0.0\n",
    "    else:\n",
    "        d  = zss.simple_distance(ET.parse(xml_1).getroot(),ET.parse(xml_2).getroot(),get_children,get_label)\n",
    "    return d\n",
    "#pass path_to_xmls\n",
    "#xml_1 = '/home/ashish-j/workspace/Data_Analytics/Project/project_local_work/E0259_Project/Data/Contest1236/all_xml/29091733_62799939.xml'\n",
    "#xml_2 = '/home/ashish-j/workspace/Data_Analytics/Project/project_local_work/E0259_Project/Data/Contest1236/all_xml/29087161_62785968.xml'\n",
    "#d=xmltree_dist(xml_1,xml_2)\n",
    "#print(d)\n",
    "\n",
    "\n",
    "\n",
    "\n",
    "\n",
    "    \n",
    "#def true_group(f):\n",
    "#    if f in group_expert_stats['file_name_problem_C'].tolist():\n",
    "#        return 0\n",
    "#    else:\n",
    "#        return 1\n",
    "    \n",
    "\n",
    "\n",
    "\n",
    "\n",
    "\n",
    "\n",
    "\n",
    "\n",
    "\n",
    "\n",
    "def pick_sample(contest,problem,n,cat):\n",
    "    stats = pd.read_csv(\"./Data/\"+str(contest)+\"/standings_statistics.csv\",delimiter='\\t')\n",
    "    stats = stats.loc[stats['ProblemC_language'] == 'GNU C++17']\n",
    "    \n",
    "    \n",
    "\n",
    "    \n",
    "    \n",
    "    stats['file_name_problem_A'] = stats['ParticipantID'].astype(str)+\"_\"+stats['ProblemA_id'].astype(str)+\".xml\"\n",
    "    stats['file_name_problem_B'] = stats['ParticipantID'].astype(str)+\"_\"+stats['ProblemB_id'].astype(str)+\".xml\"\n",
    "    stats['file_name_problem_C'] = stats['ParticipantID'].astype(str)+\"_\"+stats['ProblemC_id'].astype(str)+\".xml\"\n",
    "    group_expert_stats = stats[:50]\n",
    "    group_noob_stats = stats[len(stats):len(stats)-50:-1]\n",
    "    \n",
    "    f_names_A = stats['file_name_problem_A'].tolist()\n",
    "    f_names_B = stats['file_name_problem_B'].tolist()\n",
    "    f_names_C = stats['file_name_problem_C'].tolist()\n",
    "    if cat=='rank':\n",
    "        f_names_top = group_expert_stats['file_name_'+str(problem)].tolist()[:n]\n",
    "        f_names_bottom = group_noob_stats['file_name_'+str(problem)].tolist()[:n]\n",
    "        f_names_sample = f_names_top+f_names_bottom\n",
    "    #memory based \n",
    "#    else if cat=='mem':\n",
    "#        f_names_top = group_expert_stats['file_name_'+str(problem)].tolist()[:n]\n",
    "#        f_names_bottom = group_noob_stats['file_name_'+str(problem)].tolist()[:n]\n",
    "#        f_names_sample = f_names_top+f_names_bottom\n",
    "#        \n",
    "        \n",
    "        print(\"input xmls set up complete\")\n",
    "    return f_names_sample\n",
    "    \n",
    "\n",
    "\n",
    "\n",
    "#computes similarity matrix\n",
    "def similarity_xml_tree_dist(f_s,contest):\n",
    "    similarity = {}\n",
    "    for i in range(len(f_s)):\n",
    "        for j in range(len(f_s)):\n",
    "            if i<=j:\n",
    "                if f_s[i] in similarity.keys():\n",
    "                    similarity[f_s[i]].append(xmltree_dist('./Data/'+str(contest)+'/all_xml/'+str(f_s[i]),'./Data/'+str(contest)+'/all_xml/'+str(f_s[j])))\n",
    "                else:\n",
    "                    similarity[f_s[i]] = [xmltree_dist('./Data/'+str(contest)+'/all_xml/'+str(f_s[i]),'./Data/'+str(contest)+'/all_xml/'+str(f_s[j]))]\n",
    "            else:\n",
    "                if f_s[i] in similarity.keys():\n",
    "                    similarity[f_s[i]].append(similarity[f_s[j]][f_s.index(f_s[i])])\n",
    "                else:\n",
    "                    similarity[f_s[i]]=[similarity[f_s[j]][f_s.index(f_s[i])]]\n",
    "            print(str(i)+\",\"+str(j)+\" done!\")\n",
    "        print(str(i+1)+\" out of \"+str(len(f_s))+\" files done!\")\n",
    "    similarity_matrix = pd.DataFrame.from_dict(similarity,orient='index',columns=f_s) \n",
    "    return similarity_matrix\n",
    "            \n",
    "\n",
    "\n",
    "\n",
    "\n"
   ]
  },
  {
   "cell_type": "code",
   "execution_count": 6,
   "metadata": {},
   "outputs": [
    {
     "name": "stdout",
     "output_type": "stream",
     "text": [
      "input xmls set up complete\n"
     ]
    }
   ],
   "source": [
    "#---------DRIVER-----------------------------\n",
    "\n",
    "contest = 'Contest1236'\n",
    "problem = 'problem_C'\n",
    "n_sample = 13   # n sample from top + n sample from bottom\n",
    "\n",
    "f_names_sample = pick_sample(contest,problem,n_sample,'rank')\n",
    "\n",
    "\n"
   ]
  },
  {
   "cell_type": "code",
   "execution_count": null,
   "metadata": {},
   "outputs": [],
   "source": [
    "print(\"Computing similarity matrix...................\")\n",
    "sim = similarity_xml_tree_dist(f_names_sample,contest)\n",
    "\n",
    "print(\"Similarity matrix computation complete\")\n",
    "sim.to_csv(\"similarity_matrix_sample_\"+str(contest)+\"_\"+str(problem)+\".csv\")\n"
   ]
  },
  {
   "cell_type": "code",
   "execution_count": 15,
   "metadata": {},
   "outputs": [],
   "source": [
    "#For analysis use this (already saved csvs)"
   ]
  },
  {
   "cell_type": "code",
   "execution_count": 10,
   "metadata": {},
   "outputs": [],
   "source": [
    "sim = pd.read_csv(\"similarity_matrix_sample_\"+str(contest)+\"_\"+str(problem)+\".csv\")"
   ]
  },
  {
   "cell_type": "code",
   "execution_count": 21,
   "metadata": {},
   "outputs": [
    {
     "name": "stderr",
     "output_type": "stream",
     "text": [
      "/home/ashish-j/anaconda3/lib/python3.7/site-packages/ipykernel_launcher.py:12: MatplotlibDeprecationWarning: Adding an axes using the same arguments as a previous axes currently reuses the earlier instance.  In a future version, a new instance will always be created and returned.  Meanwhile, this warning can be suppressed, and the future behavior ensured, by passing a unique label to each axes instance.\n",
      "  if sys.path[0] == '':\n"
     ]
    },
    {
     "data": {
      "image/png": "[encoded data removed]",
      "text/plain": [
       "<Figure size 720x720 with 2 Axes>"
      ]
     },
     "metadata": {
      "needs_background": "light"
     },
     "output_type": "display_data"
    }
   ],
   "source": [
    "sim = sim.iloc[:,1:]\n",
    "#------------plot similarity matrix\n",
    "import copy\n",
    "l = copy.deepcopy(sim)\n",
    "l = np.array(l)\n",
    "sigma = 18\n",
    "l = np.exp(-l/sigma**2)\n",
    "import matplotlib.pyplot as plt\n",
    "\n",
    "fig = plt.figure(figsize=(10,10))\n",
    "plt.title(str(contest)+\"_\"+str(problem))\n",
    "ax = fig.add_subplot(111)\n",
    "cax = ax.matshow(l)\n",
    "fig.colorbar(cax)\n",
    "plt.savefig(\"similarity_matrix_sample_\"+str(contest)+\"_\"+str(problem)+\".png\")\n",
    "plt.show()\n"
   ]
  },
  {
   "cell_type": "code",
   "execution_count": null,
   "metadata": {},
   "outputs": [],
   "source": [
    "#sim.to_csv(\"similarity_matrix_sample_prob_C.csv\")\n",
    "\n",
    "\n",
    "\n",
    "\n",
    "\n",
    "#use this for analysis\n",
    "#sim = pd.read_csv(\"/home/ashish-j/workspace/Data_Analytics/Project/project_local_work/E0259_Project/similarity_matrix_sample_prob_C.csv\")\n",
    "#print(\"csv_saved\")\n",
    "\n",
    "\n",
    "\n",
    "#how similarity matrix looks?\n",
    "\n",
    "#\n",
    "#\n",
    "#sim.head(5)\n",
    "#\n",
    "#\n",
    "#\n",
    "#sim = sim.iloc[:,1:]\n",
    "\n",
    "\n",
    "\n",
    "\n",
    "##clustering\n",
    "\n",
    "\n",
    "\n",
    "#-----------------------CLUSETRING-----------------------------------------------------------\n",
    "#print(\"clustering......................\")\n",
    "#from sklearn.cluster import SpectralClustering\n",
    "#\n",
    "#\n",
    "#\n",
    "##Affinity matrix l (like in Data Analytics assignemnt but just here distance is tree edit distance)\n",
    "#\n",
    "#\n",
    "#\n",
    "#\n",
    "#clustering = SpectralClustering(n_clusters=3,\n",
    "#        assign_labels=\"discretize\",affinity='precomputed',\n",
    "#        random_state=0).fit(l)\n",
    "\n",
    "\n",
    "\n",
    "\n"
   ]
  }
 ],
 "metadata": {
  "kernelspec": {
   "display_name": "Python 3",
   "language": "python",
   "name": "python3"
  },
  "language_info": {
   "codemirror_mode": {
    "name": "ipython",
    "version": 3
   },
   "file_extension": ".py",
   "mimetype": "text/x-python",
   "name": "python",
   "nbconvert_exporter": "python",
   "pygments_lexer": "ipython3",
   "version": "3.7.3"
  }
 },
 "nbformat": 4,
 "nbformat_minor": 2
}
