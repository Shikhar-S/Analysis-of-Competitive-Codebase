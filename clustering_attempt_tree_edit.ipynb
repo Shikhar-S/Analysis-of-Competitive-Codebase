{
 "cells": [
  {
   "cell_type": "code",
   "execution_count": 37,
   "metadata": {},
   "outputs": [],
   "source": [
    "import zss    #pip install zss\n",
    "import xml.etree.ElementTree as ET\n",
    "def get_children(node):\n",
    "    my_children = [child for child in node]\n",
    "    return my_children\n",
    "\n",
    "    \n",
    "def get_label(node):\n",
    "    my_label = [child.tag for child in node]\n",
    "    return my_label\n",
    "def xmltree_dist(xml_1,xml_2):\n",
    "    if xml_1==xml_2:\n",
    "        return 0.0\n",
    "    d  = zss.simple_distance(ET.parse(xml_1).getroot(),ET.parse(xml_2).getroot(),get_children,get_label)\n",
    "    return d\n",
    "#pass path_to_xmls\n",
    "#xml_1 = '/home/ashish-j/workspace/Data_Analytics/Project/project_local_work/E0259_Project/Data/Contest1236/all_xml/29091733_62799939.xml'\n",
    "#xml_2 = '/home/ashish-j/workspace/Data_Analytics/Project/project_local_work/E0259_Project/Data/Contest1236/all_xml/29087161_62785968.xml'\n",
    "#d=xmltree_dist(xml_1,xml_2)\n",
    "#print(d)"
   ]
  },
  {
   "cell_type": "code",
   "execution_count": 354,
   "metadata": {},
   "outputs": [],
   "source": [
    "import pandas as pd"
   ]
  },
  {
   "cell_type": "code",
   "execution_count": 355,
   "metadata": {},
   "outputs": [],
   "source": [
    "import os\n",
    "import numpy as np"
   ]
  },
  {
   "cell_type": "code",
   "execution_count": 356,
   "metadata": {},
   "outputs": [],
   "source": [
    "stats = pd.read_csv(\"./Data/Contest1236/standings_statistics.csv\",delimiter='\\t')\n",
    "stats = stats.loc[stats['ProblemA_language'] == 'GNU C++17']"
   ]
  },
  {
   "cell_type": "code",
   "execution_count": 357,
   "metadata": {},
   "outputs": [],
   "source": [
    "stats['file_name_problem_A'] = stats['ParticipantID'].astype(str)+\"_\"+stats['ProblemA_id'].astype(str)+\".xml\"\n",
    "stats['file_name_problem_B'] = stats['ParticipantID'].astype(str)+\"_\"+stats['ProblemB_id'].astype(str)+\".xml\"\n",
    "stats['file_name_problem_C'] = stats['ParticipantID'].astype(str)+\"_\"+stats['ProblemC_id'].astype(str)+\".xml\"\n"
   ]
  },
  {
   "cell_type": "code",
   "execution_count": null,
   "metadata": {},
   "outputs": [],
   "source": []
  },
  {
   "cell_type": "code",
   "execution_count": 358,
   "metadata": {},
   "outputs": [],
   "source": [
    "group_expert_stats = stats[:50]\n",
    "group_noob_stats = stats[len(stats):len(stats)-50:-1]"
   ]
  },
  {
   "cell_type": "code",
   "execution_count": 374,
   "metadata": {},
   "outputs": [],
   "source": [
    "def true_group(f):\n",
    "    if f in group_expert_stats['file_name_problem_A'].tolist():\n",
    "        return 0\n",
    "    else:\n",
    "        return 1"
   ]
  },
  {
   "cell_type": "code",
   "execution_count": 360,
   "metadata": {},
   "outputs": [],
   "source": [
    "f_names = stats['file_name_problem_A'].tolist() "
   ]
  },
  {
   "cell_type": "code",
   "execution_count": 361,
   "metadata": {},
   "outputs": [],
   "source": [
    "f_names_top = group_expert_stats['file_name_problem_A'].tolist()[:10]\n",
    "f_names_bottom = group_noob_stats['file_name_problem_A'].tolist()[:10]"
   ]
  },
  {
   "cell_type": "code",
   "execution_count": 530,
   "metadata": {},
   "outputs": [],
   "source": [
    "#f_names_sample contains top 10 rankers and bottom 10 rankers code file names"
   ]
  },
  {
   "cell_type": "code",
   "execution_count": 531,
   "metadata": {},
   "outputs": [],
   "source": [
    "f_names_sample = f_names_top+f_names_bottom"
   ]
  },
  {
   "cell_type": "code",
   "execution_count": 363,
   "metadata": {},
   "outputs": [],
   "source": [
    "#computes similarity matrix\n",
    "def similarity_xml_tree_dist(f_s):\n",
    "    similarity = {}\n",
    "    for i in range(len(f_s)):\n",
    "        for j in range(len(f_s)):\n",
    "            if i<=j:\n",
    "                if f_s[i] in similarity.keys():\n",
    "                    similarity[f_s[i]].append(xmltree_dist('./Data/Contest1236/all_xml/'+str(f_s[i]),'./Data/Contest1236/all_xml/'+str(f_s[j])))\n",
    "                else:\n",
    "                    similarity[f_s[i]] = [xmltree_dist('./Data/Contest1236/all_xml/'+str(f_s[i]),'./Data/Contest1236/all_xml/'+str(f_s[j]))]\n",
    "            else:\n",
    "                if f_s[i] in similarity.keys():\n",
    "                    similarity[f_s[i]].append(similarity[f_s[j]][f_s.index(f_s[i])])\n",
    "                else:\n",
    "                    similarity[f_s[i]]=[similarity[f_s[j]][f_s.index(f_s[i])]]\n",
    "        print(str(i+1)+\" out of \"+str(len(f_s))+\" files done!\")\n",
    "    similarity_matrix = pd.DataFrame.from_dict(similarity,orient='index',columns=f_s) \n",
    "    return similarity_matrix\n",
    "            "
   ]
  },
  {
   "cell_type": "code",
   "execution_count": 364,
   "metadata": {},
   "outputs": [],
   "source": [
    "#sim = similarity_xml_tree_dist(f_names_sample)\n",
    "#sim.to_csv(\"similarity_matrix_sample.csv\")"
   ]
  },
  {
   "cell_type": "code",
   "execution_count": 533,
   "metadata": {
    "scrolled": true
   },
   "outputs": [],
   "source": [
    "#use this for analysis\n",
    "sim = pd.read_csv(\"similarity_matrix_sample.csv\")\n",
    "sim = sim.iloc[:,1:]"
   ]
  },
  {
   "cell_type": "code",
   "execution_count": 548,
   "metadata": {},
   "outputs": [],
   "source": [
    "##clustering"
   ]
  },
  {
   "cell_type": "code",
   "execution_count": 540,
   "metadata": {},
   "outputs": [],
   "source": [
    "from sklearn.cluster import SpectralClustering"
   ]
  },
  {
   "cell_type": "code",
   "execution_count": 541,
   "metadata": {},
   "outputs": [],
   "source": [
    "#Affinity matrix l (like in Data Analytics assignemnt but just here distance is tree edit distance)\n",
    "l = copy.deepcopy(sim)\n",
    "l = np.array(l)\n",
    "sigma = 28\n",
    "l = np.exp(-l/sigma**2)\n"
   ]
  },
  {
   "cell_type": "code",
   "execution_count": 542,
   "metadata": {},
   "outputs": [],
   "source": [
    "clustering = SpectralClustering(n_clusters=2,\n",
    "...         assign_labels=\"discretize\",affinity='precomputed',\n",
    "...         random_state=0).fit(l)"
   ]
  },
  {
   "cell_type": "code",
   "execution_count": 543,
   "metadata": {},
   "outputs": [],
   "source": [
    "#sim.to_csv(\"sample_dist_csv.csv\")"
   ]
  },
  {
   "cell_type": "code",
   "execution_count": 544,
   "metadata": {},
   "outputs": [],
   "source": [
    "def accuracy(f_names,pred_labels):\n",
    "    c=0\n",
    "    for i in range(len(f_names)):\n",
    "        if true_group(f_names[i])==pred_labels[i]:\n",
    "            c+=1\n",
    "    return c/len(f_names)\n",
    "        "
   ]
  },
  {
   "cell_type": "code",
   "execution_count": 545,
   "metadata": {},
   "outputs": [
    {
     "data": {
      "text/plain": [
       "0.5"
      ]
     },
     "execution_count": 545,
     "metadata": {},
     "output_type": "execute_result"
    }
   ],
   "source": [
    "accuracy(f_names_sample,clustering.labels_)"
   ]
  },
  {
   "cell_type": "code",
   "execution_count": 546,
   "metadata": {},
   "outputs": [
    {
     "data": {
      "text/plain": [
       "array([1, 1, 1, 1, 1, 1, 0, 0, 1, 0, 0, 1, 1, 1, 0, 1, 1, 1, 0, 1])"
      ]
     },
     "execution_count": 546,
     "metadata": {},
     "output_type": "execute_result"
    }
   ],
   "source": [
    "clustering.labels_"
   ]
  },
  {
   "cell_type": "code",
   "execution_count": 547,
   "metadata": {},
   "outputs": [
    {
     "data": {
      "text/plain": [
       "[0, 0, 0, 0, 0, 0, 0, 0, 0, 0, 1, 1, 1, 1, 1, 1, 1, 1, 1, 1]"
      ]
     },
     "execution_count": 547,
     "metadata": {},
     "output_type": "execute_result"
    }
   ],
   "source": [
    "[true_group(f_names_sample[i]) for i in range(20)]"
   ]
  },
  {
   "cell_type": "code",
   "execution_count": null,
   "metadata": {},
   "outputs": [],
   "source": []
  },
  {
   "cell_type": "code",
   "execution_count": null,
   "metadata": {},
   "outputs": [],
   "source": []
  }
 ],
 "metadata": {
  "kernelspec": {
   "display_name": "Python 3",
   "language": "python",
   "name": "python3"
  },
  "language_info": {
   "codemirror_mode": {
    "name": "ipython",
    "version": 3
   },
   "file_extension": ".py",
   "mimetype": "text/x-python",
   "name": "python",
   "nbconvert_exporter": "python",
   "pygments_lexer": "ipython3",
   "version": "3.7.3"
  }
 },
 "nbformat": 4,
 "nbformat_minor": 2
}
