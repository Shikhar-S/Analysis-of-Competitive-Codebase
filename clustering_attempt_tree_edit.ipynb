{
 "cells": [
  {
   "cell_type": "code",
   "execution_count": 3,
   "metadata": {},
   "outputs": [],
   "source": [
    "import zss    #pip install zss\n",
    "import xml.etree.ElementTree as ET\n",
    "def get_children(node):\n",
    "    my_children = [child for child in node]\n",
    "    return my_children\n",
    "\n",
    "    \n",
    "def get_label(node):\n",
    "    my_label = [child.tag for child in node]\n",
    "    return my_label\n",
    "def xmltree_dist(xml_1,xml_2):\n",
    "    if xml_1==xml_2:\n",
    "        return 0.0\n",
    "    d  = zss.simple_distance(ET.parse(xml_1).getroot(),ET.parse(xml_2).getroot(),get_children,get_label)\n",
    "    return d\n",
    "#pass path_to_xmls\n",
    "#xml_1 = '/home/ashish-j/workspace/Data_Analytics/Project/project_local_work/E0259_Project/Data/Contest1236/all_xml/29091733_62799939.xml'\n",
    "#xml_2 = '/home/ashish-j/workspace/Data_Analytics/Project/project_local_work/E0259_Project/Data/Contest1236/all_xml/29087161_62785968.xml'\n",
    "#d=xmltree_dist(xml_1,xml_2)\n",
    "#print(d)"
   ]
  },
  {
   "cell_type": "code",
   "execution_count": 4,
   "metadata": {},
   "outputs": [],
   "source": [
    "import pandas as pd"
   ]
  },
  {
   "cell_type": "code",
   "execution_count": 5,
   "metadata": {},
   "outputs": [],
   "source": [
    "import os\n",
    "import numpy as np"
   ]
  },
  {
   "cell_type": "code",
   "execution_count": 356,
   "metadata": {},
   "outputs": [],
   "source": [
    "stats = pd.read_csv(\"./Data/Contest1236/standings_statistics.csv\",delimiter='\\t')\n",
    "stats = stats.loc[stats['ProblemA_language'] == 'GNU C++17']"
   ]
  },
  {
   "cell_type": "code",
   "execution_count": 357,
   "metadata": {},
   "outputs": [],
   "source": [
    "stats['file_name_problem_A'] = stats['ParticipantID'].astype(str)+\"_\"+stats['ProblemA_id'].astype(str)+\".xml\"\n",
    "stats['file_name_problem_B'] = stats['ParticipantID'].astype(str)+\"_\"+stats['ProblemB_id'].astype(str)+\".xml\"\n",
    "stats['file_name_problem_C'] = stats['ParticipantID'].astype(str)+\"_\"+stats['ProblemC_id'].astype(str)+\".xml\"\n"
   ]
  },
  {
   "cell_type": "code",
   "execution_count": null,
   "metadata": {},
   "outputs": [],
   "source": []
  },
  {
   "cell_type": "code",
   "execution_count": 358,
   "metadata": {},
   "outputs": [],
   "source": [
    "group_expert_stats = stats[:50]\n",
    "group_noob_stats = stats[len(stats):len(stats)-50:-1]"
   ]
  },
  {
   "cell_type": "code",
   "execution_count": 374,
   "metadata": {},
   "outputs": [],
   "source": [
    "def true_group(f):\n",
    "    if f in group_expert_stats['file_name_problem_A'].tolist():\n",
    "        return 0\n",
    "    else:\n",
    "        return 1"
   ]
  },
  {
   "cell_type": "code",
   "execution_count": 360,
   "metadata": {},
   "outputs": [],
   "source": [
    "f_names = stats['file_name_problem_A'].tolist() "
   ]
  },
  {
   "cell_type": "code",
   "execution_count": 361,
   "metadata": {},
   "outputs": [],
   "source": [
    "f_names_top = group_expert_stats['file_name_problem_A'].tolist()[:10]\n",
    "f_names_bottom = group_noob_stats['file_name_problem_A'].tolist()[:10]"
   ]
  },
  {
   "cell_type": "code",
   "execution_count": 530,
   "metadata": {},
   "outputs": [],
   "source": [
    "#f_names_sample contains top 10 rankers and bottom 10 rankers code file names"
   ]
  },
  {
   "cell_type": "code",
   "execution_count": 531,
   "metadata": {},
   "outputs": [],
   "source": [
    "f_names_sample = f_names_top+f_names_bottom"
   ]
  },
  {
   "cell_type": "code",
   "execution_count": 363,
   "metadata": {},
   "outputs": [],
   "source": [
    "#computes similarity matrix\n",
    "def similarity_xml_tree_dist(f_s):\n",
    "    similarity = {}\n",
    "    for i in range(len(f_s)):\n",
    "        for j in range(len(f_s)):\n",
    "            if i<=j:\n",
    "                if f_s[i] in similarity.keys():\n",
    "                    similarity[f_s[i]].append(xmltree_dist('./Data/Contest1236/all_xml/'+str(f_s[i]),'./Data/Contest1236/all_xml/'+str(f_s[j])))\n",
    "                else:\n",
    "                    similarity[f_s[i]] = [xmltree_dist('./Data/Contest1236/all_xml/'+str(f_s[i]),'./Data/Contest1236/all_xml/'+str(f_s[j]))]\n",
    "            else:\n",
    "                if f_s[i] in similarity.keys():\n",
    "                    similarity[f_s[i]].append(similarity[f_s[j]][f_s.index(f_s[i])])\n",
    "                else:\n",
    "                    similarity[f_s[i]]=[similarity[f_s[j]][f_s.index(f_s[i])]]\n",
    "        print(str(i+1)+\" out of \"+str(len(f_s))+\" files done!\")\n",
    "    similarity_matrix = pd.DataFrame.from_dict(similarity,orient='index',columns=f_s) \n",
    "    return similarity_matrix\n",
    "            "
   ]
  },
  {
   "cell_type": "code",
   "execution_count": 364,
   "metadata": {},
   "outputs": [],
   "source": [
    "#sim = similarity_xml_tree_dist(f_names_sample)\n",
    "#sim.to_csv(\"similarity_matrix_sample.csv\")"
   ]
  },
  {
   "cell_type": "code",
   "execution_count": 6,
   "metadata": {
    "scrolled": true
   },
   "outputs": [],
   "source": [
    "#use this for analysis\n",
    "sim = pd.read_csv(\"similarity_matrix_sample.csv\")\n"
   ]
  },
  {
   "cell_type": "code",
   "execution_count": 7,
   "metadata": {},
   "outputs": [],
   "source": [
    "#how similarity matrix looks?"
   ]
  },
  {
   "cell_type": "code",
   "execution_count": 10,
   "metadata": {
    "scrolled": true
   },
   "outputs": [
    {
     "data": {
      "text/html": [
       "<div>\n",
       "<style scoped>\n",
       "    .dataframe tbody tr th:only-of-type {\n",
       "        vertical-align: middle;\n",
       "    }\n",
       "\n",
       "    .dataframe tbody tr th {\n",
       "        vertical-align: top;\n",
       "    }\n",
       "\n",
       "    .dataframe thead th {\n",
       "        text-align: right;\n",
       "    }\n",
       "</style>\n",
       "<table border=\"1\" class=\"dataframe\">\n",
       "  <thead>\n",
       "    <tr style=\"text-align: right;\">\n",
       "      <th></th>\n",
       "      <th>Unnamed: 0</th>\n",
       "      <th>29058912_62784582.xml</th>\n",
       "      <th>29053879_62784627.xml</th>\n",
       "      <th>29088469_62784321.xml</th>\n",
       "      <th>29091733_62799939.xml</th>\n",
       "      <th>29090440_62784596.xml</th>\n",
       "      <th>29089658_62790291.xml</th>\n",
       "      <th>29071421_62784215.xml</th>\n",
       "      <th>29050098_62784720.xml</th>\n",
       "      <th>29086779_62784976.xml</th>\n",
       "      <th>...</th>\n",
       "      <th>29089225_62789202.xml</th>\n",
       "      <th>29089816_62784223.xml</th>\n",
       "      <th>29066004_62786058.xml</th>\n",
       "      <th>29090996_62786478.xml</th>\n",
       "      <th>29065111_62785580.xml</th>\n",
       "      <th>29087473_62786516.xml</th>\n",
       "      <th>29083820_62785015.xml</th>\n",
       "      <th>29085153_62784803.xml</th>\n",
       "      <th>29066736_62784968.xml</th>\n",
       "      <th>29057110_62784916.xml</th>\n",
       "    </tr>\n",
       "  </thead>\n",
       "  <tbody>\n",
       "    <tr>\n",
       "      <th>0</th>\n",
       "      <td>29058912_62784582.xml</td>\n",
       "      <td>0.0</td>\n",
       "      <td>175.0</td>\n",
       "      <td>151.0</td>\n",
       "      <td>120.0</td>\n",
       "      <td>84.0</td>\n",
       "      <td>129.0</td>\n",
       "      <td>743.0</td>\n",
       "      <td>570.0</td>\n",
       "      <td>143.0</td>\n",
       "      <td>...</td>\n",
       "      <td>512.0</td>\n",
       "      <td>144.0</td>\n",
       "      <td>117.0</td>\n",
       "      <td>210.0</td>\n",
       "      <td>467.0</td>\n",
       "      <td>211.0</td>\n",
       "      <td>127.0</td>\n",
       "      <td>148.0</td>\n",
       "      <td>1212.0</td>\n",
       "      <td>143.0</td>\n",
       "    </tr>\n",
       "    <tr>\n",
       "      <th>1</th>\n",
       "      <td>29053879_62784627.xml</td>\n",
       "      <td>175.0</td>\n",
       "      <td>0.0</td>\n",
       "      <td>159.0</td>\n",
       "      <td>195.0</td>\n",
       "      <td>193.0</td>\n",
       "      <td>199.0</td>\n",
       "      <td>665.0</td>\n",
       "      <td>526.0</td>\n",
       "      <td>210.0</td>\n",
       "      <td>...</td>\n",
       "      <td>457.0</td>\n",
       "      <td>162.0</td>\n",
       "      <td>199.0</td>\n",
       "      <td>228.0</td>\n",
       "      <td>436.0</td>\n",
       "      <td>192.0</td>\n",
       "      <td>169.0</td>\n",
       "      <td>174.0</td>\n",
       "      <td>1141.0</td>\n",
       "      <td>202.0</td>\n",
       "    </tr>\n",
       "    <tr>\n",
       "      <th>2</th>\n",
       "      <td>29088469_62784321.xml</td>\n",
       "      <td>151.0</td>\n",
       "      <td>159.0</td>\n",
       "      <td>0.0</td>\n",
       "      <td>185.0</td>\n",
       "      <td>178.0</td>\n",
       "      <td>217.0</td>\n",
       "      <td>654.0</td>\n",
       "      <td>506.0</td>\n",
       "      <td>182.0</td>\n",
       "      <td>...</td>\n",
       "      <td>448.0</td>\n",
       "      <td>164.0</td>\n",
       "      <td>206.0</td>\n",
       "      <td>241.0</td>\n",
       "      <td>385.0</td>\n",
       "      <td>229.0</td>\n",
       "      <td>190.0</td>\n",
       "      <td>153.0</td>\n",
       "      <td>1112.0</td>\n",
       "      <td>193.0</td>\n",
       "    </tr>\n",
       "    <tr>\n",
       "      <th>3</th>\n",
       "      <td>29091733_62799939.xml</td>\n",
       "      <td>120.0</td>\n",
       "      <td>195.0</td>\n",
       "      <td>185.0</td>\n",
       "      <td>0.0</td>\n",
       "      <td>130.0</td>\n",
       "      <td>74.0</td>\n",
       "      <td>762.0</td>\n",
       "      <td>603.0</td>\n",
       "      <td>98.0</td>\n",
       "      <td>...</td>\n",
       "      <td>544.0</td>\n",
       "      <td>165.0</td>\n",
       "      <td>103.0</td>\n",
       "      <td>237.0</td>\n",
       "      <td>486.0</td>\n",
       "      <td>232.0</td>\n",
       "      <td>139.0</td>\n",
       "      <td>165.0</td>\n",
       "      <td>1235.0</td>\n",
       "      <td>175.0</td>\n",
       "    </tr>\n",
       "    <tr>\n",
       "      <th>4</th>\n",
       "      <td>29090440_62784596.xml</td>\n",
       "      <td>84.0</td>\n",
       "      <td>193.0</td>\n",
       "      <td>178.0</td>\n",
       "      <td>130.0</td>\n",
       "      <td>0.0</td>\n",
       "      <td>108.0</td>\n",
       "      <td>772.0</td>\n",
       "      <td>582.0</td>\n",
       "      <td>140.0</td>\n",
       "      <td>...</td>\n",
       "      <td>542.0</td>\n",
       "      <td>153.0</td>\n",
       "      <td>136.0</td>\n",
       "      <td>217.0</td>\n",
       "      <td>477.0</td>\n",
       "      <td>226.0</td>\n",
       "      <td>135.0</td>\n",
       "      <td>179.0</td>\n",
       "      <td>1230.0</td>\n",
       "      <td>153.0</td>\n",
       "    </tr>\n",
       "  </tbody>\n",
       "</table>\n",
       "<p>5 rows × 21 columns</p>\n",
       "</div>"
      ],
      "text/plain": [
       "              Unnamed: 0  29058912_62784582.xml  29053879_62784627.xml  \\\n",
       "0  29058912_62784582.xml                    0.0                  175.0   \n",
       "1  29053879_62784627.xml                  175.0                    0.0   \n",
       "2  29088469_62784321.xml                  151.0                  159.0   \n",
       "3  29091733_62799939.xml                  120.0                  195.0   \n",
       "4  29090440_62784596.xml                   84.0                  193.0   \n",
       "\n",
       "   29088469_62784321.xml  29091733_62799939.xml  29090440_62784596.xml  \\\n",
       "0                  151.0                  120.0                   84.0   \n",
       "1                  159.0                  195.0                  193.0   \n",
       "2                    0.0                  185.0                  178.0   \n",
       "3                  185.0                    0.0                  130.0   \n",
       "4                  178.0                  130.0                    0.0   \n",
       "\n",
       "   29089658_62790291.xml  29071421_62784215.xml  29050098_62784720.xml  \\\n",
       "0                  129.0                  743.0                  570.0   \n",
       "1                  199.0                  665.0                  526.0   \n",
       "2                  217.0                  654.0                  506.0   \n",
       "3                   74.0                  762.0                  603.0   \n",
       "4                  108.0                  772.0                  582.0   \n",
       "\n",
       "   29086779_62784976.xml  ...  29089225_62789202.xml  29089816_62784223.xml  \\\n",
       "0                  143.0  ...                  512.0                  144.0   \n",
       "1                  210.0  ...                  457.0                  162.0   \n",
       "2                  182.0  ...                  448.0                  164.0   \n",
       "3                   98.0  ...                  544.0                  165.0   \n",
       "4                  140.0  ...                  542.0                  153.0   \n",
       "\n",
       "   29066004_62786058.xml  29090996_62786478.xml  29065111_62785580.xml  \\\n",
       "0                  117.0                  210.0                  467.0   \n",
       "1                  199.0                  228.0                  436.0   \n",
       "2                  206.0                  241.0                  385.0   \n",
       "3                  103.0                  237.0                  486.0   \n",
       "4                  136.0                  217.0                  477.0   \n",
       "\n",
       "   29087473_62786516.xml  29083820_62785015.xml  29085153_62784803.xml  \\\n",
       "0                  211.0                  127.0                  148.0   \n",
       "1                  192.0                  169.0                  174.0   \n",
       "2                  229.0                  190.0                  153.0   \n",
       "3                  232.0                  139.0                  165.0   \n",
       "4                  226.0                  135.0                  179.0   \n",
       "\n",
       "   29066736_62784968.xml  29057110_62784916.xml  \n",
       "0                 1212.0                  143.0  \n",
       "1                 1141.0                  202.0  \n",
       "2                 1112.0                  193.0  \n",
       "3                 1235.0                  175.0  \n",
       "4                 1230.0                  153.0  \n",
       "\n",
       "[5 rows x 21 columns]"
      ]
     },
     "execution_count": 10,
     "metadata": {},
     "output_type": "execute_result"
    }
   ],
   "source": [
    "sim.head(5)"
   ]
  },
  {
   "cell_type": "code",
   "execution_count": 552,
   "metadata": {},
   "outputs": [],
   "source": [
    "sim = sim.iloc[:,1:]"
   ]
  },
  {
   "cell_type": "code",
   "execution_count": 548,
   "metadata": {},
   "outputs": [],
   "source": [
    "##clustering"
   ]
  },
  {
   "cell_type": "code",
   "execution_count": 540,
   "metadata": {},
   "outputs": [],
   "source": [
    "from sklearn.cluster import SpectralClustering"
   ]
  },
  {
   "cell_type": "code",
   "execution_count": 541,
   "metadata": {},
   "outputs": [],
   "source": [
    "#Affinity matrix l (like in Data Analytics assignemnt but just here distance is tree edit distance)\n",
    "l = copy.deepcopy(sim)\n",
    "l = np.array(l)\n",
    "sigma = 28\n",
    "l = np.exp(-l/sigma**2)\n"
   ]
  },
  {
   "cell_type": "code",
   "execution_count": 542,
   "metadata": {},
   "outputs": [],
   "source": [
    "clustering = SpectralClustering(n_clusters=2,\n",
    "...         assign_labels=\"discretize\",affinity='precomputed',\n",
    "...         random_state=0).fit(l)"
   ]
  },
  {
   "cell_type": "code",
   "execution_count": 543,
   "metadata": {},
   "outputs": [],
   "source": [
    "#sim.to_csv(\"sample_dist_csv.csv\")"
   ]
  },
  {
   "cell_type": "code",
   "execution_count": 544,
   "metadata": {},
   "outputs": [],
   "source": [
    "def accuracy(f_names,pred_labels):\n",
    "    c=0\n",
    "    for i in range(len(f_names)):\n",
    "        if true_group(f_names[i])==pred_labels[i]:\n",
    "            c+=1\n",
    "    return c/len(f_names)\n",
    "        "
   ]
  },
  {
   "cell_type": "code",
   "execution_count": 545,
   "metadata": {},
   "outputs": [
    {
     "data": {
      "text/plain": [
       "0.5"
      ]
     },
     "execution_count": 545,
     "metadata": {},
     "output_type": "execute_result"
    }
   ],
   "source": [
    "accuracy(f_names_sample,clustering.labels_)"
   ]
  },
  {
   "cell_type": "code",
   "execution_count": 546,
   "metadata": {},
   "outputs": [
    {
     "data": {
      "text/plain": [
       "array([1, 1, 1, 1, 1, 1, 0, 0, 1, 0, 0, 1, 1, 1, 0, 1, 1, 1, 0, 1])"
      ]
     },
     "execution_count": 546,
     "metadata": {},
     "output_type": "execute_result"
    }
   ],
   "source": [
    "clustering.labels_"
   ]
  },
  {
   "cell_type": "code",
   "execution_count": 547,
   "metadata": {},
   "outputs": [
    {
     "data": {
      "text/plain": [
       "[0, 0, 0, 0, 0, 0, 0, 0, 0, 0, 1, 1, 1, 1, 1, 1, 1, 1, 1, 1]"
      ]
     },
     "execution_count": 547,
     "metadata": {},
     "output_type": "execute_result"
    }
   ],
   "source": [
    "[true_group(f_names_sample[i]) for i in range(20)]"
   ]
  },
  {
   "cell_type": "code",
   "execution_count": null,
   "metadata": {},
   "outputs": [],
   "source": []
  },
  {
   "cell_type": "code",
   "execution_count": null,
   "metadata": {},
   "outputs": [],
   "source": []
  }
 ],
 "metadata": {
  "kernelspec": {
   "display_name": "Python 3",
   "language": "python",
   "name": "python3"
  },
  "language_info": {
   "codemirror_mode": {
    "name": "ipython",
    "version": 3
   },
   "file_extension": ".py",
   "mimetype": "text/x-python",
   "name": "python",
   "nbconvert_exporter": "python",
   "pygments_lexer": "ipython3",
   "version": "3.7.3"
  }
 },
 "nbformat": 4,
 "nbformat_minor": 2
}
